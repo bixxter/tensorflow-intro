{
 "cells": [
  {
   "cell_type": "markdown",
   "metadata": {},
   "source": [
    "# 0. Import Data"
   ]
  },
  {
   "cell_type": "code",
   "execution_count": 1,
   "metadata": {},
   "outputs": [],
   "source": [
    "import pandas as pd\n",
    "from sklearn.model_selection import train_test_split"
   ]
  },
  {
   "cell_type": "code",
   "execution_count": 2,
   "metadata": {},
   "outputs": [],
   "source": [
    "df = pd.read_csv('Churn.csv')"
   ]
  },
  {
   "cell_type": "code",
   "execution_count": 3,
   "metadata": {},
   "outputs": [],
   "source": [
    "X = pd.get_dummies(df.drop(['Churn', 'Customer ID'], axis=1))\n",
    "y = df['Churn'].apply(lambda x: 1 if x=='Yes' else 0)"
   ]
  },
  {
   "cell_type": "code",
   "execution_count": 4,
   "metadata": {},
   "outputs": [],
   "source": [
    "X_train, X_test, y_train, y_test = train_test_split(X, y, test_size=.2)"
   ]
  },
  {
   "cell_type": "code",
   "execution_count": 5,
   "metadata": {},
   "outputs": [
    {
     "data": {
      "text/plain": [
       "2690    0\n",
       "4397    1\n",
       "4201    0\n",
       "1679    0\n",
       "1957    0\n",
       "Name: Churn, dtype: int64"
      ]
     },
     "execution_count": 5,
     "metadata": {},
     "output_type": "execute_result"
    }
   ],
   "source": [
    "y_train.head()"
   ]
  },
  {
   "cell_type": "markdown",
   "metadata": {},
   "source": [
    "# 1. Import Dependencies"
   ]
  },
  {
   "cell_type": "code",
   "execution_count": 6,
   "metadata": {},
   "outputs": [],
   "source": [
    "from tensorflow.keras.models import Sequential, load_model\n",
    "from tensorflow.keras.layers import Dense\n",
    "from sklearn.metrics import accuracy_score"
   ]
  },
  {
   "cell_type": "markdown",
   "metadata": {},
   "source": [
    "# 2. Build and Compile Model"
   ]
  },
  {
   "cell_type": "code",
   "execution_count": 7,
   "metadata": {},
   "outputs": [
    {
     "name": "stdout",
     "output_type": "stream",
     "text": [
      "Metal device set to: Apple M1\n"
     ]
    },
    {
     "name": "stderr",
     "output_type": "stream",
     "text": [
      "2022-03-12 04:37:29.059757: I tensorflow/core/common_runtime/pluggable_device/pluggable_device_factory.cc:305] Could not identify NUMA node of platform GPU ID 0, defaulting to 0. Your kernel may not have been built with NUMA support.\n",
      "2022-03-12 04:37:29.060080: I tensorflow/core/common_runtime/pluggable_device/pluggable_device_factory.cc:271] Created TensorFlow device (/job:localhost/replica:0/task:0/device:GPU:0 with 0 MB memory) -> physical PluggableDevice (device: 0, name: METAL, pci bus id: <undefined>)\n"
     ]
    }
   ],
   "source": [
    "model = Sequential()\n",
    "model.add(Dense(units=32, activation='relu', input_dim=len(X_train.columns)))\n",
    "model.add(Dense(units=64, activation='relu'))\n",
    "model.add(Dense(units=1, activation='sigmoid'))"
   ]
  },
  {
   "cell_type": "code",
   "execution_count": 8,
   "metadata": {},
   "outputs": [],
   "source": [
    "model.compile(loss='binary_crossentropy', optimizer='sgd', metrics='accuracy')"
   ]
  },
  {
   "cell_type": "markdown",
   "metadata": {},
   "source": [
    "# 3. Fit, Predict and Evaluate"
   ]
  },
  {
   "cell_type": "markdown",
   "metadata": {},
   "source": []
  },
  {
   "cell_type": "code",
   "execution_count": null,
   "metadata": {},
   "outputs": [
    {
     "name": "stderr",
     "output_type": "stream",
     "text": [
      "2022-03-12 04:37:32.818567: W tensorflow/core/platform/profile_utils/cpu_utils.cc:128] Failed to get CPU frequency: 0 Hz\n",
      "2022-03-12 04:37:32.939367: I tensorflow/core/grappler/optimizers/custom_graph_optimizer_registry.cc:112] Plugin optimizer for device_type GPU is enabled.\n"
     ]
    },
    {
     "name": "stdout",
     "output_type": "stream",
     "text": [
      "Epoch 1/200\n",
      "177/177 [==============================] - 3s 8ms/step - loss: 0.5127 - accuracy: 0.7459\n",
      "Epoch 2/200\n",
      "177/177 [==============================] - 1s 7ms/step - loss: 0.4829 - accuracy: 0.7697\n",
      "Epoch 3/200\n",
      "177/177 [==============================] - 1s 7ms/step - loss: 0.4789 - accuracy: 0.7768\n",
      "Epoch 4/200\n",
      "177/177 [==============================] - 1s 7ms/step - loss: 0.4757 - accuracy: 0.7794\n",
      "Epoch 5/200\n",
      "177/177 [==============================] - 1s 7ms/step - loss: 0.4745 - accuracy: 0.7812\n",
      "Epoch 6/200\n",
      "177/177 [==============================] - 1s 7ms/step - loss: 0.4701 - accuracy: 0.7844\n",
      "Epoch 7/200\n",
      "177/177 [==============================] - 1s 7ms/step - loss: 0.4705 - accuracy: 0.7812\n",
      "Epoch 8/200\n",
      "177/177 [==============================] - 1s 7ms/step - loss: 0.4650 - accuracy: 0.7828\n",
      "Epoch 9/200\n",
      "177/177 [==============================] - 1s 7ms/step - loss: 0.4645 - accuracy: 0.7842\n",
      "Epoch 10/200\n",
      "177/177 [==============================] - 1s 7ms/step - loss: 0.4621 - accuracy: 0.7846\n",
      "Epoch 11/200\n",
      "177/177 [==============================] - 1s 7ms/step - loss: 0.4621 - accuracy: 0.7783\n",
      "Epoch 12/200\n",
      "177/177 [==============================] - 2s 9ms/step - loss: 0.4609 - accuracy: 0.7831\n",
      "Epoch 13/200\n",
      "177/177 [==============================] - 2s 9ms/step - loss: 0.4585 - accuracy: 0.7856\n",
      "Epoch 14/200\n",
      "177/177 [==============================] - 1s 8ms/step - loss: 0.4571 - accuracy: 0.7840\n",
      "Epoch 15/200\n",
      "177/177 [==============================] - 1s 7ms/step - loss: 0.4584 - accuracy: 0.7826\n",
      "Epoch 16/200\n",
      "177/177 [==============================] - 1s 7ms/step - loss: 0.4533 - accuracy: 0.7872\n",
      "Epoch 17/200\n",
      "177/177 [==============================] - 1s 7ms/step - loss: 0.4523 - accuracy: 0.7844\n",
      "Epoch 18/200\n",
      "177/177 [==============================] - 1s 7ms/step - loss: 0.4525 - accuracy: 0.7805\n",
      "Epoch 19/200\n",
      "177/177 [==============================] - 1s 7ms/step - loss: 0.4511 - accuracy: 0.7842\n",
      "Epoch 20/200\n",
      "177/177 [==============================] - 1s 7ms/step - loss: 0.4527 - accuracy: 0.7846\n",
      "Epoch 21/200\n",
      "177/177 [==============================] - 1s 7ms/step - loss: 0.4493 - accuracy: 0.7849\n",
      "Epoch 22/200\n",
      "177/177 [==============================] - 1s 7ms/step - loss: 0.4489 - accuracy: 0.7865\n",
      "Epoch 23/200\n",
      "177/177 [==============================] - 1s 7ms/step - loss: 0.4472 - accuracy: 0.7835\n",
      "Epoch 24/200\n",
      "177/177 [==============================] - 1s 7ms/step - loss: 0.4501 - accuracy: 0.7831\n",
      "Epoch 25/200\n",
      "177/177 [==============================] - 1s 7ms/step - loss: 0.4500 - accuracy: 0.7819\n",
      "Epoch 26/200\n",
      "177/177 [==============================] - 1s 7ms/step - loss: 0.4473 - accuracy: 0.7867\n",
      "Epoch 27/200\n",
      "177/177 [==============================] - 1s 7ms/step - loss: 0.4489 - accuracy: 0.7824\n",
      "Epoch 28/200\n",
      "177/177 [==============================] - 1s 7ms/step - loss: 0.4435 - accuracy: 0.7908\n",
      "Epoch 29/200\n",
      "177/177 [==============================] - 1s 7ms/step - loss: 0.4457 - accuracy: 0.7870\n",
      "Epoch 30/200\n",
      "177/177 [==============================] - 1s 7ms/step - loss: 0.4450 - accuracy: 0.7904\n",
      "Epoch 31/200\n",
      "177/177 [==============================] - 1s 7ms/step - loss: 0.4473 - accuracy: 0.7876\n",
      "Epoch 32/200\n",
      "177/177 [==============================] - 1s 7ms/step - loss: 0.4413 - accuracy: 0.7886\n",
      "Epoch 33/200\n",
      "177/177 [==============================] - 1s 7ms/step - loss: 0.4468 - accuracy: 0.7878\n",
      "Epoch 34/200\n",
      "177/177 [==============================] - 1s 7ms/step - loss: 0.4430 - accuracy: 0.7878\n",
      "Epoch 35/200\n",
      "177/177 [==============================] - 1s 7ms/step - loss: 0.4427 - accuracy: 0.7883\n",
      "Epoch 36/200\n",
      "177/177 [==============================] - 1s 7ms/step - loss: 0.4415 - accuracy: 0.7888\n",
      "Epoch 37/200\n",
      "177/177 [==============================] - 1s 7ms/step - loss: 0.4439 - accuracy: 0.7904\n",
      "Epoch 38/200\n",
      "177/177 [==============================] - 1s 7ms/step - loss: 0.4409 - accuracy: 0.7872\n",
      "Epoch 39/200\n",
      "177/177 [==============================] - 1s 7ms/step - loss: 0.4399 - accuracy: 0.7902\n",
      "Epoch 40/200\n",
      "177/177 [==============================] - 1s 7ms/step - loss: 0.4413 - accuracy: 0.7863\n",
      "Epoch 41/200\n",
      "177/177 [==============================] - 1s 7ms/step - loss: 0.4401 - accuracy: 0.7879\n",
      "Epoch 42/200\n",
      "177/177 [==============================] - 1s 7ms/step - loss: 0.4417 - accuracy: 0.7922\n",
      "Epoch 43/200\n",
      "177/177 [==============================] - 1s 7ms/step - loss: 0.4409 - accuracy: 0.7883\n",
      "Epoch 44/200\n",
      "177/177 [==============================] - 1s 7ms/step - loss: 0.4403 - accuracy: 0.7863\n",
      "Epoch 45/200\n",
      "177/177 [==============================] - 1s 7ms/step - loss: 0.4397 - accuracy: 0.7902\n",
      "Epoch 46/200\n",
      "177/177 [==============================] - 1s 7ms/step - loss: 0.4402 - accuracy: 0.7886\n",
      "Epoch 47/200\n",
      "177/177 [==============================] - 1s 7ms/step - loss: 0.4404 - accuracy: 0.7899\n",
      "Epoch 48/200\n",
      "177/177 [==============================] - 1s 7ms/step - loss: 0.4391 - accuracy: 0.7922\n",
      "Epoch 49/200\n",
      "177/177 [==============================] - 1s 7ms/step - loss: 0.4414 - accuracy: 0.7902\n",
      "Epoch 50/200\n",
      "177/177 [==============================] - 1s 7ms/step - loss: 0.4360 - accuracy: 0.7925\n",
      "Epoch 51/200\n",
      "177/177 [==============================] - 1s 7ms/step - loss: 0.4358 - accuracy: 0.7897\n",
      "Epoch 52/200\n",
      "177/177 [==============================] - 1s 7ms/step - loss: 0.4375 - accuracy: 0.7933\n",
      "Epoch 53/200\n",
      "177/177 [==============================] - 1s 7ms/step - loss: 0.4344 - accuracy: 0.7909\n",
      "Epoch 54/200\n",
      "177/177 [==============================] - 1s 7ms/step - loss: 0.4368 - accuracy: 0.7872\n",
      "Epoch 55/200\n",
      "177/177 [==============================] - 1s 8ms/step - loss: 0.4375 - accuracy: 0.7909\n",
      "Epoch 56/200\n",
      "177/177 [==============================] - 1s 8ms/step - loss: 0.4334 - accuracy: 0.7909\n",
      "Epoch 57/200\n",
      "177/177 [==============================] - 1s 7ms/step - loss: 0.4342 - accuracy: 0.7895\n",
      "Epoch 58/200\n",
      "177/177 [==============================] - 1s 7ms/step - loss: 0.4357 - accuracy: 0.7904\n",
      "Epoch 59/200\n",
      "177/177 [==============================] - 1s 7ms/step - loss: 0.4336 - accuracy: 0.7918\n",
      "Epoch 60/200\n",
      "160/177 [==========================>...] - ETA: 0s - loss: 0.4352 - accuracy: 0.7943"
     ]
    }
   ],
   "source": [
    "model.fit(X_train, y_train, epochs=200, batch_size=32)"
   ]
  },
  {
   "cell_type": "code",
   "execution_count": null,
   "metadata": {},
   "outputs": [],
   "source": [
    "y_hat = model.predict(X_test)\n",
    "y_hat = [0 if val < 0.5 else 1 for val in y_hat]"
   ]
  },
  {
   "cell_type": "code",
   "execution_count": null,
   "metadata": {},
   "outputs": [],
   "source": [
    "accuracy_score(y_test, y_hat)"
   ]
  },
  {
   "cell_type": "markdown",
   "metadata": {},
   "source": [
    "# 4. Saving and Reloading"
   ]
  },
  {
   "cell_type": "code",
   "execution_count": null,
   "metadata": {},
   "outputs": [],
   "source": [
    "model.save('tfmodel')"
   ]
  },
  {
   "cell_type": "code",
   "execution_count": null,
   "metadata": {},
   "outputs": [],
   "source": [
    "del model "
   ]
  },
  {
   "cell_type": "code",
   "execution_count": null,
   "metadata": {},
   "outputs": [],
   "source": [
    "model = load_model('tfmodel')"
   ]
  },
  {
   "cell_type": "code",
   "execution_count": null,
   "metadata": {},
   "outputs": [],
   "source": []
  }
 ],
 "metadata": {
  "kernelspec": {
   "display_name": "Python 3 (ipykernel)",
   "language": "python",
   "name": "python3"
  },
  "language_info": {
   "codemirror_mode": {
    "name": "ipython",
    "version": 3
   },
   "file_extension": ".py",
   "mimetype": "text/x-python",
   "name": "python",
   "nbconvert_exporter": "python",
   "pygments_lexer": "ipython3",
   "version": "3.8.11"
  }
 },
 "nbformat": 4,
 "nbformat_minor": 2
}
